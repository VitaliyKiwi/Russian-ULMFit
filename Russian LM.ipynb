{
 "cells": [
  {
   "cell_type": "markdown",
   "metadata": {},
   "source": [
    "# Train an AWD-LSTM language model"
   ]
  },
  {
   "cell_type": "code",
   "execution_count": 1,
   "metadata": {},
   "outputs": [],
   "source": [
    "%reload_ext autoreload\n",
    "%autoreload 2\n",
    "%matplotlib inline"
   ]
  },
  {
   "cell_type": "code",
   "execution_count": 2,
   "metadata": {},
   "outputs": [],
   "source": [
    "from fastai.text import *\n",
    "import os\n",
    "from tqdm import tqdm_notebook"
   ]
  },
  {
   "cell_type": "code",
   "execution_count": 3,
   "metadata": {},
   "outputs": [],
   "source": [
    "path = Path(\"artifacts\")"
   ]
  },
  {
   "cell_type": "code",
   "execution_count": 4,
   "metadata": {},
   "outputs": [],
   "source": [
    "import torch\n",
    "torch.cuda.set_device(1)"
   ]
  },
  {
   "cell_type": "markdown",
   "metadata": {},
   "source": [
    "The corpus is a subset of Taiga corpus, containing the following subcorpora (in folders of the same name):\n",
    "- Arzamas\n",
    "- Fontaka\n",
    "- Interfax\n",
    "- KP\n",
    "- Lenta\n",
    "- NPlus1\n",
    "\n",
    "Each folder contains the \"texts\" folder, containing texts, one per file."
   ]
  },
  {
   "cell_type": "code",
   "execution_count": 7,
   "metadata": {},
   "outputs": [
    {
     "data": {
      "application/vnd.jupyter.widget-view+json": {
       "model_id": "04d8fbb3930d406eac0c7c2fc22ef836",
       "version_major": 2,
       "version_minor": 0
      },
      "text/plain": [
       "HBox(children=(IntProgress(value=1, bar_style='info', max=1), HTML(value='')))"
      ]
     },
     "metadata": {},
     "output_type": "display_data"
    },
    {
     "name": "stdout",
     "output_type": "stream",
     "text": [
      "\n"
     ]
    }
   ],
   "source": [
    "texts = list()\n",
    "for root, _, files in tqdm_notebook(os.walk(\"corpus/extracted\")):\n",
    "    for file in files:\n",
    "        with open(os.path.join(root, file)) as f:\n",
    "            texts.append(f.read().strip())"
   ]
  },
  {
   "cell_type": "code",
   "execution_count": 9,
   "metadata": {},
   "outputs": [
    {
     "data": {
      "text/plain": [
       "208006138"
      ]
     },
     "execution_count": 9,
     "metadata": {},
     "output_type": "execute_result"
    }
   ],
   "source": [
    "sum(len(t.split()) for t in texts)"
   ]
  },
  {
   "cell_type": "code",
   "execution_count": 10,
   "metadata": {},
   "outputs": [],
   "source": [
    "texts = pd.DataFrame(texts)"
   ]
  },
  {
   "cell_type": "code",
   "execution_count": 16,
   "metadata": {},
   "outputs": [
    {
     "data": {
      "text/plain": [
       "(1181970, 1)"
      ]
     },
     "execution_count": 16,
     "metadata": {},
     "output_type": "execute_result"
    }
   ],
   "source": [
    "texts.shape"
   ]
  },
  {
   "cell_type": "code",
   "execution_count": 19,
   "metadata": {},
   "outputs": [],
   "source": [
    "bs = 64"
   ]
  },
  {
   "cell_type": "markdown",
   "metadata": {},
   "source": [
    "RAM utilization peaks at around 40Gb"
   ]
  },
  {
   "cell_type": "code",
   "execution_count": 21,
   "metadata": {},
   "outputs": [],
   "source": [
    "data = TextList.from_df(texts, \n",
    "                        processor=[TokenizeProcessor(tokenizer=Tokenizer(lang=\"xx\")), \n",
    "                                                     NumericalizeProcessor(min_freq=2, max_vocab=60000)]).\\\n",
    "                random_split_by_pct(.1).\\\n",
    "                label_for_lm().\\\n",
    "                databunch(bs=bs)"
   ]
  },
  {
   "cell_type": "code",
   "execution_count": 22,
   "metadata": {},
   "outputs": [
    {
     "data": {
      "text/html": [
       "<table>  <col width='5%'>  <col width='95%'>  <tr>\n",
       "    <th>idx</th>\n",
       "    <th>text</th>\n",
       "  </tr>\n",
       "  <tr>\n",
       "    <th>0</th>\n",
       "    <th>риа xxmaj новости сообщил , что среди них не значатся йод и xxunk . \\n xxmaj правительство на прошлой неделе поручило xxmaj xxunk на время приостановить продажу xxunk жидкостей с содержанием спирта более 25 % . xxmaj речь идет о xxunk , парфюмерии и xxunk средств . \\n xxmaj вопрос о запрете оборота xxunk жидкостей возник после массового отравления в xxmaj иркутске « xxmaj xxunk » . xxmaj жертвами xxunk</th>\n",
       "  </tr>\n",
       "  <tr>\n",
       "    <th>1</th>\n",
       "    <th>xxunk - 01 - xxunk + 03:00;;http : / / www.kp.ru / online / news / xxunk / \\n xxmaj комсомольская xxunk два месяца назад молодого xxunk разыскивают в соседнем xxunk > xxup чп;;2017 - 01 - xxunk + 03:00;;http : / / www.kp.ru / online / news / xxunk / \\n xxmaj комсомольская xxunk xxmaj липецке рабочего xxunk xxunk xxunk xxunk > xxmaj криминал;;2017 - 01 - xxunk +</th>\n",
       "  </tr>\n",
       "  <tr>\n",
       "    <th>2</th>\n",
       "    <th>xxmaj жана xxmaj xxunk и xxmaj xxunk xxmaj xxunk , xxunk xxmaj xxunk xxmaj xxunk и xxmaj xxunk xxmaj xxunk , фотографиях xxmaj адольфа де xxmaj xxunk . xxmaj открытие выставки в музее xxunk приурочено к 50-летию кончины артиста , передает агентство xxup xxunk news . c начала 20-х годов xxmaj xxunk , звезда парижских \" xxmaj русских сезонов \" , находился под наблюдением врачей , а последние 20 лет</th>\n",
       "  </tr>\n",
       "  <tr>\n",
       "    <th>3</th>\n",
       "    <th>7 января \" xxmaj газпром \" приостановил и эти поставки , обвиняя xxmaj украину в незаконном отборе топлива и xxunk экспортных газопроводов . в свою очередь , президент xxmaj украины xxmaj виктор xxmaj ющенко потребовал от своего коллеги в xxmaj россии xxmaj дмитрия xxmaj медведева немедленно возобновить поставки . xxmaj пока этого не произошло , многие европейские страны xxunk большие объемы xxunk топлива . в некоторых странах , например в</th>\n",
       "  </tr>\n",
       "  <tr>\n",
       "    <th>4</th>\n",
       "    <th>в \" xxmaj газпроме \" пока не прокомментировали заявление иракских властей . в xxmaj ираке работает дочерняя компания газовой монополии - \" xxmaj газпром нефть \" . в 2009 году она выиграла тендер на разработку нефтяного месторождения xxmaj xxunk . xxmaj месторождение расположено на востоке xxmaj ирака . \" xxmaj газпром нефть \" является оператором проекта , компании принадлежит доля в 30 процентов . в августе 2012 года \" xxmaj</th>\n",
       "  </tr>\n",
       "</table>\n"
      ],
      "text/plain": [
       "<IPython.core.display.HTML object>"
      ]
     },
     "metadata": {},
     "output_type": "display_data"
    }
   ],
   "source": [
    "data.show_batch()"
   ]
  },
  {
   "cell_type": "code",
   "execution_count": 24,
   "metadata": {},
   "outputs": [],
   "source": [
    "data.save(path / \"lm_data\")"
   ]
  },
  {
   "cell_type": "code",
   "execution_count": 33,
   "metadata": {},
   "outputs": [],
   "source": [
    "learn = language_model_learner(data, pretrained_model=None)"
   ]
  },
  {
   "cell_type": "code",
   "execution_count": 34,
   "metadata": {},
   "outputs": [],
   "source": [
    "learn.unfreeze()"
   ]
  },
  {
   "cell_type": "code",
   "execution_count": 35,
   "metadata": {},
   "outputs": [
    {
     "name": "stdout",
     "output_type": "stream",
     "text": [
      "LR Finder is complete, type {learner_name}.recorder.plot() to see the graph.\n"
     ]
    }
   ],
   "source": [
    "learn.lr_find()"
   ]
  },
  {
   "cell_type": "code",
   "execution_count": 43,
   "metadata": {
    "scrolled": true
   },
   "outputs": [
    {
     "data": {
      "image/png": "[encoded data removed]",
      "text/plain": [
       "<Figure size 432x288 with 1 Axes>"
      ]
     },
     "metadata": {
      "needs_background": "light"
     },
     "output_type": "display_data"
    }
   ],
   "source": [
    "learn.recorder.plot()"
   ]
  },
  {
   "cell_type": "code",
   "execution_count": 40,
   "metadata": {},
   "outputs": [],
   "source": [
    "from fastai.callbacks import SaveModelCallback, ReduceLROnPlateauCallback"
   ]
  },
  {
   "cell_type": "code",
   "execution_count": 45,
   "metadata": {},
   "outputs": [
    {
     "data": {
      "text/html": [
       "Total time: 22:51:40 <p><table style='width:300px; margin-bottom:10px'>\n",
       "  <tr>\n",
       "    <th>epoch</th>\n",
       "    <th>train_loss</th>\n",
       "    <th>valid_loss</th>\n",
       "    <th>accuracy</th>\n",
       "  </tr>\n",
       "  <tr>\n",
       "    <th>1</th>\n",
       "    <th>3.655336</th>\n",
       "    <th>3.475370</th>\n",
       "    <th>0.390683</th>\n",
       "  </tr>\n",
       "  <tr>\n",
       "    <th>2</th>\n",
       "    <th>3.477082</th>\n",
       "    <th>3.311656</th>\n",
       "    <th>0.404194</th>\n",
       "  </tr>\n",
       "  <tr>\n",
       "    <th>3</th>\n",
       "    <th>3.415747</th>\n",
       "    <th>3.220839</th>\n",
       "    <th>0.413514</th>\n",
       "  </tr>\n",
       "  <tr>\n",
       "    <th>4</th>\n",
       "    <th>3.320024</th>\n",
       "    <th>3.138681</th>\n",
       "    <th>0.423168</th>\n",
       "  </tr>\n",
       "  <tr>\n",
       "    <th>5</th>\n",
       "    <th>3.305291</th>\n",
       "    <th>3.106956</th>\n",
       "    <th>0.427272</th>\n",
       "  </tr>\n",
       "</table>\n"
      ],
      "text/plain": [
       "<IPython.core.display.HTML object>"
      ]
     },
     "metadata": {},
     "output_type": "display_data"
    }
   ],
   "source": [
    "learn.fit_one_cycle(5, 2e-3, moms=(0.8, 0.7), callbacks=[SaveModelCallback(learn), ReduceLROnPlateauCallback(learn, factor=0.8)])"
   ]
  },
  {
   "cell_type": "code",
   "execution_count": 46,
   "metadata": {},
   "outputs": [],
   "source": [
    "learn.save(\"lm_5_ep_lr2-3\")"
   ]
  },
  {
   "cell_type": "code",
   "execution_count": 47,
   "metadata": {},
   "outputs": [],
   "source": [
    "learn.save_encoder(\"lm_5_ep_lr2-3_enc\")"
   ]
  },
  {
   "cell_type": "code",
   "execution_count": 320,
   "metadata": {},
   "outputs": [
    {
     "name": "stdout",
     "output_type": "stream",
     "text": [
      "LR Finder is complete, type {learner_name}.recorder.plot() to see the graph.\n"
     ]
    }
   ],
   "source": [
    "learn.lr_find()"
   ]
  },
  {
   "cell_type": "code",
   "execution_count": 323,
   "metadata": {},
   "outputs": [
    {
     "data": {
      "image/png": "[encoded data removed]",
      "text/plain": [
       "<Figure size 432x288 with 1 Axes>"
      ]
     },
     "metadata": {
      "needs_background": "light"
     },
     "output_type": "display_data"
    }
   ],
   "source": [
    "learn.recorder.plot()"
   ]
  },
  {
   "cell_type": "code",
   "execution_count": 324,
   "metadata": {},
   "outputs": [
    {
     "data": {
      "text/html": [
       "Total time: 22:53:02 <p><table style='width:300px; margin-bottom:10px'>\n",
       "  <tr>\n",
       "    <th>epoch</th>\n",
       "    <th>train_loss</th>\n",
       "    <th>valid_loss</th>\n",
       "    <th>accuracy</th>\n",
       "  </tr>\n",
       "  <tr>\n",
       "    <th>1</th>\n",
       "    <th>3.327268</th>\n",
       "    <th>3.126424</th>\n",
       "    <th>0.424546</th>\n",
       "  </tr>\n",
       "  <tr>\n",
       "    <th>2</th>\n",
       "    <th>3.309945</th>\n",
       "    <th>3.125146</th>\n",
       "    <th>0.424225</th>\n",
       "  </tr>\n",
       "  <tr>\n",
       "    <th>3</th>\n",
       "    <th>3.305685</th>\n",
       "    <th>3.107883</th>\n",
       "    <th>0.426271</th>\n",
       "  </tr>\n",
       "  <tr>\n",
       "    <th>4</th>\n",
       "    <th>3.311324</th>\n",
       "    <th>3.091680</th>\n",
       "    <th>0.428564</th>\n",
       "  </tr>\n",
       "  <tr>\n",
       "    <th>5</th>\n",
       "    <th>3.258298</th>\n",
       "    <th>3.086017</th>\n",
       "    <th>0.429533</th>\n",
       "  </tr>\n",
       "</table>\n"
      ],
      "text/plain": [
       "<IPython.core.display.HTML object>"
      ]
     },
     "metadata": {},
     "output_type": "display_data"
    }
   ],
   "source": [
    "learn.fit_one_cycle(5, slice(2e-3 / 20, 1e-3), moms=(0.8, 0.7), callbacks=[SaveModelCallback(learn, name=\"best_model_2\")])"
   ]
  },
  {
   "cell_type": "code",
   "execution_count": 325,
   "metadata": {},
   "outputs": [],
   "source": [
    "learn.save(\"lm_5_ep_lr2-3_5_stlr\")\n",
    "learn.save_encoder(\"lm_5_ep_lr2-3_5_stlr_enc\")"
   ]
  },
  {
   "cell_type": "code",
   "execution_count": 477,
   "metadata": {},
   "outputs": [
    {
     "data": {
      "text/plain": [
       "'Россиян шокировали обладателями бюджетных средств . \\n\\n\\n \" xxmaj граждане не ответили и не хотели бы xxup'"
      ]
     },
     "execution_count": 477,
     "metadata": {},
     "output_type": "execute_result"
    }
   ],
   "source": [
    "learn.predict(\"Россиян шокировали\", 15)"
   ]
  }
 ],
 "metadata": {
  "kernelspec": {
   "display_name": "Python 3",
   "language": "python",
   "name": "python3"
  },
  "language_info": {
   "codemirror_mode": {
    "name": "ipython",
    "version": 3
   },
   "file_extension": ".py",
   "mimetype": "text/x-python",
   "name": "python",
   "nbconvert_exporter": "python",
   "pygments_lexer": "ipython3",
   "version": "3.7.1"
  }
 },
 "nbformat": 4,
 "nbformat_minor": 2
}
